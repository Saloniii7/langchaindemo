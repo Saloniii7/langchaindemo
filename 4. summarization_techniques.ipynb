{
 "cells": [
  {
   "cell_type": "code",
   "execution_count": 1,
   "metadata": {},
   "outputs": [],
   "source": [
    "# 1.Text Summarization basic pass"
   ]
  },
  {
   "cell_type": "code",
   "execution_count": 5,
   "metadata": {},
   "outputs": [
    {
     "name": "stdout",
     "output_type": "stream",
     "text": [
      "Requirement already satisfied: langchain in /home/ec2-user/anaconda3/envs/python3/lib/python3.10/site-packages (0.2.1)\n",
      "Collecting openai\n",
      "  Downloading openai-1.30.4-py3-none-any.whl.metadata (21 kB)\n",
      "Collecting streamlit\n",
      "  Downloading streamlit-1.35.0-py2.py3-none-any.whl.metadata (8.5 kB)\n",
      "Collecting tiktoken\n",
      "  Downloading tiktoken-0.7.0-cp310-cp310-manylinux_2_17_x86_64.manylinux2014_x86_64.whl.metadata (6.6 kB)\n",
      "Collecting unstructured\n",
      "  Downloading unstructured-0.14.2-py3-none-any.whl.metadata (31 kB)\n",
      "Collecting pdf2image\n",
      "  Downloading pdf2image-1.17.0-py3-none-any.whl.metadata (6.2 kB)\n",
      "Collecting pdfminer\n",
      "  Downloading pdfminer-20191125.tar.gz (4.2 MB)\n",
      "\u001b[2K     \u001b[90m━━━━━━━━━━━━━━━━━━━━━━━━━━━━━━━━━━━━━━━━\u001b[0m \u001b[32m4.2/4.2 MB\u001b[0m \u001b[31m10.6 MB/s\u001b[0m eta \u001b[36m0:00:00\u001b[0m00:01\u001b[0m0:01\u001b[0mm\n",
      "\u001b[?25h  Preparing metadata (setup.py) ... \u001b[?25ldone\n",
      "\u001b[?25hCollecting PyPDF2\n",
      "  Downloading pypdf2-3.0.1-py3-none-any.whl.metadata (6.8 kB)\n",
      "Requirement already satisfied: PyYAML>=5.3 in /home/ec2-user/anaconda3/envs/python3/lib/python3.10/site-packages (from langchain) (6.0.1)\n",
      "Requirement already satisfied: SQLAlchemy<3,>=1.4 in /home/ec2-user/anaconda3/envs/python3/lib/python3.10/site-packages (from langchain) (2.0.29)\n",
      "Requirement already satisfied: aiohttp<4.0.0,>=3.8.3 in /home/ec2-user/anaconda3/envs/python3/lib/python3.10/site-packages (from langchain) (3.9.3)\n",
      "Requirement already satisfied: async-timeout<5.0.0,>=4.0.0 in /home/ec2-user/anaconda3/envs/python3/lib/python3.10/site-packages (from langchain) (4.0.3)\n",
      "Requirement already satisfied: langchain-core<0.3.0,>=0.2.0 in /home/ec2-user/anaconda3/envs/python3/lib/python3.10/site-packages (from langchain) (0.2.1)\n",
      "Requirement already satisfied: langchain-text-splitters<0.3.0,>=0.2.0 in /home/ec2-user/anaconda3/envs/python3/lib/python3.10/site-packages (from langchain) (0.2.0)\n",
      "Requirement already satisfied: langsmith<0.2.0,>=0.1.17 in /home/ec2-user/anaconda3/envs/python3/lib/python3.10/site-packages (from langchain) (0.1.63)\n",
      "Requirement already satisfied: numpy<2,>=1 in /home/ec2-user/anaconda3/envs/python3/lib/python3.10/site-packages (from langchain) (1.22.4)\n",
      "Requirement already satisfied: pydantic<3,>=1 in /home/ec2-user/anaconda3/envs/python3/lib/python3.10/site-packages (from langchain) (2.7.2)\n",
      "Requirement already satisfied: requests<3,>=2 in /home/ec2-user/anaconda3/envs/python3/lib/python3.10/site-packages (from langchain) (2.31.0)\n",
      "Requirement already satisfied: tenacity<9.0.0,>=8.1.0 in /home/ec2-user/anaconda3/envs/python3/lib/python3.10/site-packages (from langchain) (8.2.3)\n",
      "Requirement already satisfied: anyio<5,>=3.5.0 in /home/ec2-user/anaconda3/envs/python3/lib/python3.10/site-packages (from openai) (4.3.0)\n",
      "Collecting distro<2,>=1.7.0 (from openai)\n",
      "  Downloading distro-1.9.0-py3-none-any.whl.metadata (6.8 kB)\n",
      "Requirement already satisfied: httpx<1,>=0.23.0 in /home/ec2-user/anaconda3/envs/python3/lib/python3.10/site-packages (from openai) (0.27.0)\n",
      "Requirement already satisfied: sniffio in /home/ec2-user/anaconda3/envs/python3/lib/python3.10/site-packages (from openai) (1.3.1)\n",
      "Requirement already satisfied: tqdm>4 in /home/ec2-user/anaconda3/envs/python3/lib/python3.10/site-packages (from openai) (4.66.2)\n",
      "Requirement already satisfied: typing-extensions<5,>=4.7 in /home/ec2-user/anaconda3/envs/python3/lib/python3.10/site-packages (from openai) (4.10.0)\n",
      "Collecting altair<6,>=4.0 (from streamlit)\n",
      "  Downloading altair-5.3.0-py3-none-any.whl.metadata (9.2 kB)\n",
      "Requirement already satisfied: blinker<2,>=1.0.0 in /home/ec2-user/anaconda3/envs/python3/lib/python3.10/site-packages (from streamlit) (1.7.0)\n",
      "Collecting cachetools<6,>=4.0 (from streamlit)\n",
      "  Downloading cachetools-5.3.3-py3-none-any.whl.metadata (5.3 kB)\n",
      "Requirement already satisfied: click<9,>=7.0 in /home/ec2-user/anaconda3/envs/python3/lib/python3.10/site-packages (from streamlit) (8.1.7)\n",
      "Requirement already satisfied: packaging<25,>=16.8 in /home/ec2-user/anaconda3/envs/python3/lib/python3.10/site-packages (from streamlit) (23.2)\n",
      "Requirement already satisfied: pandas<3,>=1.3.0 in /home/ec2-user/anaconda3/envs/python3/lib/python3.10/site-packages (from streamlit) (2.2.1)\n",
      "Requirement already satisfied: pillow<11,>=7.1.0 in /home/ec2-user/anaconda3/envs/python3/lib/python3.10/site-packages (from streamlit) (10.2.0)\n",
      "Requirement already satisfied: protobuf<5,>=3.20 in /home/ec2-user/anaconda3/envs/python3/lib/python3.10/site-packages (from streamlit) (4.25.3)\n",
      "Requirement already satisfied: pyarrow>=7.0 in /home/ec2-user/anaconda3/envs/python3/lib/python3.10/site-packages (from streamlit) (15.0.2)\n",
      "Requirement already satisfied: rich<14,>=10.14.0 in /home/ec2-user/anaconda3/envs/python3/lib/python3.10/site-packages (from streamlit) (13.7.1)\n",
      "Requirement already satisfied: toml<2,>=0.10.1 in /home/ec2-user/anaconda3/envs/python3/lib/python3.10/site-packages (from streamlit) (0.10.2)\n",
      "Collecting gitpython!=3.1.19,<4,>=3.0.7 (from streamlit)\n",
      "  Using cached GitPython-3.1.43-py3-none-any.whl.metadata (13 kB)\n",
      "Collecting pydeck<1,>=0.8.0b4 (from streamlit)\n",
      "  Downloading pydeck-0.9.1-py2.py3-none-any.whl.metadata (4.1 kB)\n",
      "Requirement already satisfied: tornado<7,>=6.0.3 in /home/ec2-user/anaconda3/envs/python3/lib/python3.10/site-packages (from streamlit) (6.4)\n",
      "Requirement already satisfied: watchdog>=2.1.5 in /home/ec2-user/anaconda3/envs/python3/lib/python3.10/site-packages (from streamlit) (4.0.0)\n",
      "Requirement already satisfied: regex>=2022.1.18 in /home/ec2-user/anaconda3/envs/python3/lib/python3.10/site-packages (from tiktoken) (2023.12.25)\n",
      "Requirement already satisfied: chardet in /home/ec2-user/anaconda3/envs/python3/lib/python3.10/site-packages (from unstructured) (5.2.0)\n",
      "Collecting filetype (from unstructured)\n",
      "  Downloading filetype-1.2.0-py2.py3-none-any.whl.metadata (6.5 kB)\n",
      "Collecting python-magic (from unstructured)\n",
      "  Downloading python_magic-0.4.27-py2.py3-none-any.whl.metadata (5.8 kB)\n",
      "Collecting lxml (from unstructured)\n",
      "  Downloading lxml-5.2.2-cp310-cp310-manylinux_2_17_x86_64.manylinux2014_x86_64.whl.metadata (3.4 kB)\n",
      "Requirement already satisfied: nltk in /home/ec2-user/anaconda3/envs/python3/lib/python3.10/site-packages (from unstructured) (3.8.1)\n",
      "Requirement already satisfied: tabulate in /home/ec2-user/anaconda3/envs/python3/lib/python3.10/site-packages (from unstructured) (0.9.0)\n",
      "Requirement already satisfied: beautifulsoup4 in /home/ec2-user/anaconda3/envs/python3/lib/python3.10/site-packages (from unstructured) (4.12.3)\n",
      "Collecting emoji (from unstructured)\n",
      "  Downloading emoji-2.12.1-py3-none-any.whl.metadata (5.4 kB)\n",
      "Collecting dataclasses-json (from unstructured)\n",
      "  Downloading dataclasses_json-0.6.6-py3-none-any.whl.metadata (25 kB)\n",
      "Collecting python-iso639 (from unstructured)\n",
      "  Downloading python_iso639-2024.4.27-py3-none-any.whl.metadata (13 kB)\n",
      "Collecting langdetect (from unstructured)\n",
      "  Downloading langdetect-1.0.9.tar.gz (981 kB)\n",
      "\u001b[2K     \u001b[90m━━━━━━━━━━━━━━━━━━━━━━━━━━━━━━━━━━━━━━\u001b[0m \u001b[32m981.5/981.5 kB\u001b[0m \u001b[31m61.4 MB/s\u001b[0m eta \u001b[36m0:00:00\u001b[0m\n",
      "\u001b[?25h  Preparing metadata (setup.py) ... \u001b[?25ldone\n",
      "\u001b[?25hCollecting rapidfuzz (from unstructured)\n",
      "  Downloading rapidfuzz-3.9.1-cp310-cp310-manylinux_2_17_x86_64.manylinux2014_x86_64.whl.metadata (11 kB)\n",
      "Collecting backoff (from unstructured)\n",
      "  Downloading backoff-2.2.1-py3-none-any.whl.metadata (14 kB)\n",
      "Collecting unstructured-client (from unstructured)\n",
      "  Downloading unstructured_client-0.22.0-py3-none-any.whl.metadata (7.3 kB)\n",
      "Requirement already satisfied: wrapt in /home/ec2-user/anaconda3/envs/python3/lib/python3.10/site-packages (from unstructured) (1.16.0)\n",
      "Requirement already satisfied: pycryptodome in /home/ec2-user/anaconda3/envs/python3/lib/python3.10/site-packages (from pdfminer) (3.20.0)\n",
      "Requirement already satisfied: aiosignal>=1.1.2 in /home/ec2-user/anaconda3/envs/python3/lib/python3.10/site-packages (from aiohttp<4.0.0,>=3.8.3->langchain) (1.3.1)\n",
      "Requirement already satisfied: attrs>=17.3.0 in /home/ec2-user/anaconda3/envs/python3/lib/python3.10/site-packages (from aiohttp<4.0.0,>=3.8.3->langchain) (23.2.0)\n",
      "Requirement already satisfied: frozenlist>=1.1.1 in /home/ec2-user/anaconda3/envs/python3/lib/python3.10/site-packages (from aiohttp<4.0.0,>=3.8.3->langchain) (1.4.1)\n",
      "Requirement already satisfied: multidict<7.0,>=4.5 in /home/ec2-user/anaconda3/envs/python3/lib/python3.10/site-packages (from aiohttp<4.0.0,>=3.8.3->langchain) (6.0.5)\n",
      "Requirement already satisfied: yarl<2.0,>=1.0 in /home/ec2-user/anaconda3/envs/python3/lib/python3.10/site-packages (from aiohttp<4.0.0,>=3.8.3->langchain) (1.9.4)\n"
     ]
    },
    {
     "name": "stdout",
     "output_type": "stream",
     "text": [
      "Requirement already satisfied: jinja2 in /home/ec2-user/anaconda3/envs/python3/lib/python3.10/site-packages (from altair<6,>=4.0->streamlit) (3.1.3)\n",
      "Requirement already satisfied: jsonschema>=3.0 in /home/ec2-user/anaconda3/envs/python3/lib/python3.10/site-packages (from altair<6,>=4.0->streamlit) (4.21.1)\n",
      "Requirement already satisfied: toolz in /home/ec2-user/anaconda3/envs/python3/lib/python3.10/site-packages (from altair<6,>=4.0->streamlit) (0.12.1)\n",
      "Requirement already satisfied: idna>=2.8 in /home/ec2-user/anaconda3/envs/python3/lib/python3.10/site-packages (from anyio<5,>=3.5.0->openai) (3.6)\n",
      "Requirement already satisfied: exceptiongroup>=1.0.2 in /home/ec2-user/anaconda3/envs/python3/lib/python3.10/site-packages (from anyio<5,>=3.5.0->openai) (1.2.0)\n",
      "Collecting gitdb<5,>=4.0.1 (from gitpython!=3.1.19,<4,>=3.0.7->streamlit)\n",
      "  Using cached gitdb-4.0.11-py3-none-any.whl.metadata (1.2 kB)\n",
      "Requirement already satisfied: certifi in /home/ec2-user/anaconda3/envs/python3/lib/python3.10/site-packages (from httpx<1,>=0.23.0->openai) (2024.2.2)\n",
      "Requirement already satisfied: httpcore==1.* in /home/ec2-user/anaconda3/envs/python3/lib/python3.10/site-packages (from httpx<1,>=0.23.0->openai) (1.0.4)\n",
      "Requirement already satisfied: h11<0.15,>=0.13 in /home/ec2-user/anaconda3/envs/python3/lib/python3.10/site-packages (from httpcore==1.*->httpx<1,>=0.23.0->openai) (0.14.0)\n",
      "Requirement already satisfied: jsonpatch<2.0,>=1.33 in /home/ec2-user/anaconda3/envs/python3/lib/python3.10/site-packages (from langchain-core<0.3.0,>=0.2.0->langchain) (1.33)\n",
      "Requirement already satisfied: orjson<4.0.0,>=3.9.14 in /home/ec2-user/anaconda3/envs/python3/lib/python3.10/site-packages (from langsmith<0.2.0,>=0.1.17->langchain) (3.10.3)\n",
      "Requirement already satisfied: python-dateutil>=2.8.2 in /home/ec2-user/anaconda3/envs/python3/lib/python3.10/site-packages (from pandas<3,>=1.3.0->streamlit) (2.9.0)\n",
      "Requirement already satisfied: pytz>=2020.1 in /home/ec2-user/anaconda3/envs/python3/lib/python3.10/site-packages (from pandas<3,>=1.3.0->streamlit) (2024.1)\n",
      "Requirement already satisfied: tzdata>=2022.7 in /home/ec2-user/anaconda3/envs/python3/lib/python3.10/site-packages (from pandas<3,>=1.3.0->streamlit) (2024.1)\n",
      "Requirement already satisfied: annotated-types>=0.4.0 in /home/ec2-user/anaconda3/envs/python3/lib/python3.10/site-packages (from pydantic<3,>=1->langchain) (0.7.0)\n",
      "Requirement already satisfied: pydantic-core==2.18.3 in /home/ec2-user/anaconda3/envs/python3/lib/python3.10/site-packages (from pydantic<3,>=1->langchain) (2.18.3)\n",
      "Requirement already satisfied: charset-normalizer<4,>=2 in /home/ec2-user/anaconda3/envs/python3/lib/python3.10/site-packages (from requests<3,>=2->langchain) (3.3.2)\n",
      "Requirement already satisfied: urllib3<3,>=1.21.1 in /home/ec2-user/anaconda3/envs/python3/lib/python3.10/site-packages (from requests<3,>=2->langchain) (2.2.1)\n",
      "Requirement already satisfied: markdown-it-py>=2.2.0 in /home/ec2-user/anaconda3/envs/python3/lib/python3.10/site-packages (from rich<14,>=10.14.0->streamlit) (3.0.0)\n",
      "Requirement already satisfied: pygments<3.0.0,>=2.13.0 in /home/ec2-user/anaconda3/envs/python3/lib/python3.10/site-packages (from rich<14,>=10.14.0->streamlit) (2.17.2)\n",
      "Requirement already satisfied: greenlet!=0.4.17 in /home/ec2-user/anaconda3/envs/python3/lib/python3.10/site-packages (from SQLAlchemy<3,>=1.4->langchain) (3.0.3)\n",
      "Requirement already satisfied: soupsieve>1.2 in /home/ec2-user/anaconda3/envs/python3/lib/python3.10/site-packages (from beautifulsoup4->unstructured) (2.5)\n",
      "Collecting marshmallow<4.0.0,>=3.18.0 (from dataclasses-json->unstructured)\n",
      "  Downloading marshmallow-3.21.2-py3-none-any.whl.metadata (7.1 kB)\n",
      "Collecting typing-inspect<1,>=0.4.0 (from dataclasses-json->unstructured)\n",
      "  Downloading typing_inspect-0.9.0-py3-none-any.whl.metadata (1.5 kB)\n",
      "Requirement already satisfied: six in /home/ec2-user/anaconda3/envs/python3/lib/python3.10/site-packages (from langdetect->unstructured) (1.16.0)\n",
      "Requirement already satisfied: joblib in /home/ec2-user/anaconda3/envs/python3/lib/python3.10/site-packages (from nltk->unstructured) (1.3.2)\n",
      "Collecting deepdiff>=6.0 (from unstructured-client->unstructured)\n",
      "  Downloading deepdiff-7.0.1-py3-none-any.whl.metadata (6.8 kB)\n",
      "Collecting jsonpath-python>=1.0.6 (from unstructured-client->unstructured)\n",
      "  Downloading jsonpath_python-1.0.6-py3-none-any.whl.metadata (12 kB)\n",
      "Requirement already satisfied: mypy-extensions>=1.0.0 in /home/ec2-user/anaconda3/envs/python3/lib/python3.10/site-packages (from unstructured-client->unstructured) (1.0.0)\n",
      "Collecting pypdf>=4.0 (from unstructured-client->unstructured)\n",
      "  Downloading pypdf-4.2.0-py3-none-any.whl.metadata (7.4 kB)\n",
      "Collecting ordered-set<4.2.0,>=4.1.0 (from deepdiff>=6.0->unstructured-client->unstructured)\n",
      "  Downloading ordered_set-4.1.0-py3-none-any.whl.metadata (5.3 kB)\n",
      "Collecting smmap<6,>=3.0.1 (from gitdb<5,>=4.0.1->gitpython!=3.1.19,<4,>=3.0.7->streamlit)\n",
      "  Using cached smmap-5.0.1-py3-none-any.whl.metadata (4.3 kB)\n",
      "Requirement already satisfied: MarkupSafe>=2.0 in /home/ec2-user/anaconda3/envs/python3/lib/python3.10/site-packages (from jinja2->altair<6,>=4.0->streamlit) (2.1.5)\n",
      "Requirement already satisfied: jsonpointer>=1.9 in /home/ec2-user/anaconda3/envs/python3/lib/python3.10/site-packages (from jsonpatch<2.0,>=1.33->langchain-core<0.3.0,>=0.2.0->langchain) (2.4)\n",
      "Requirement already satisfied: jsonschema-specifications>=2023.03.6 in /home/ec2-user/anaconda3/envs/python3/lib/python3.10/site-packages (from jsonschema>=3.0->altair<6,>=4.0->streamlit) (2023.12.1)\n",
      "Requirement already satisfied: referencing>=0.28.4 in /home/ec2-user/anaconda3/envs/python3/lib/python3.10/site-packages (from jsonschema>=3.0->altair<6,>=4.0->streamlit) (0.34.0)\n",
      "Requirement already satisfied: rpds-py>=0.7.1 in /home/ec2-user/anaconda3/envs/python3/lib/python3.10/site-packages (from jsonschema>=3.0->altair<6,>=4.0->streamlit) (0.18.0)\n",
      "Requirement already satisfied: mdurl~=0.1 in /home/ec2-user/anaconda3/envs/python3/lib/python3.10/site-packages (from markdown-it-py>=2.2.0->rich<14,>=10.14.0->streamlit) (0.1.2)\n",
      "Downloading openai-1.30.4-py3-none-any.whl (320 kB)\n",
      "\u001b[2K   \u001b[90m━━━━━━━━━━━━━━━━━━━━━━━━━━━━━━━━━━━━━━━━\u001b[0m \u001b[32m320.6/320.6 kB\u001b[0m \u001b[31m26.1 MB/s\u001b[0m eta \u001b[36m0:00:00\u001b[0m\n",
      "\u001b[?25hDownloading streamlit-1.35.0-py2.py3-none-any.whl (8.6 MB)\n",
      "\u001b[2K   \u001b[90m━━━━━━━━━━━━━━━━━━━━━━━━━━━━━━━━━━━━━━━━\u001b[0m \u001b[32m8.6/8.6 MB\u001b[0m \u001b[31m99.4 MB/s\u001b[0m eta \u001b[36m0:00:00\u001b[0m:00:01\u001b[0m00:01\u001b[0m\n",
      "\u001b[?25hDownloading tiktoken-0.7.0-cp310-cp310-manylinux_2_17_x86_64.manylinux2014_x86_64.whl (1.1 MB)\n",
      "\u001b[2K   \u001b[90m━━━━━━━━━━━━━━━━━━━━━━━━━━━━━━━━━━━━━━━━\u001b[0m \u001b[32m1.1/1.1 MB\u001b[0m \u001b[31m75.2 MB/s\u001b[0m eta \u001b[36m0:00:00\u001b[0m\n",
      "\u001b[?25hDownloading unstructured-0.14.2-py3-none-any.whl (2.0 MB)\n",
      "\u001b[2K   \u001b[90m━━━━━━━━━━━━━━━━━━━━━━━━━━━━━━━━━━━━━━━━\u001b[0m \u001b[32m2.0/2.0 MB\u001b[0m \u001b[31m13.7 MB/s\u001b[0m eta \u001b[36m0:00:00\u001b[0m00:01\u001b[0m0:01\u001b[0m\n",
      "\u001b[?25hDownloading pdf2image-1.17.0-py3-none-any.whl (11 kB)\n",
      "Downloading pypdf2-3.0.1-py3-none-any.whl (232 kB)\n",
      "\u001b[2K   \u001b[90m━━━━━━━━━━━━━━━━━━━━━━━━━━━━━━━━━━━━━━━━\u001b[0m \u001b[32m232.6/232.6 kB\u001b[0m \u001b[31m21.6 MB/s\u001b[0m eta \u001b[36m0:00:00\u001b[0m\n",
      "\u001b[?25hDownloading altair-5.3.0-py3-none-any.whl (857 kB)\n",
      "\u001b[2K   \u001b[90m━━━━━━━━━━━━━━━━━━━━━━━━━━━━━━━━━━━━━━━━\u001b[0m \u001b[32m857.8/857.8 kB\u001b[0m \u001b[31m76.2 MB/s\u001b[0m eta \u001b[36m0:00:00\u001b[0m\n",
      "\u001b[?25hDownloading cachetools-5.3.3-py3-none-any.whl (9.3 kB)\n",
      "Downloading distro-1.9.0-py3-none-any.whl (20 kB)\n",
      "Using cached GitPython-3.1.43-py3-none-any.whl (207 kB)\n",
      "Downloading pydeck-0.9.1-py2.py3-none-any.whl (6.9 MB)\n",
      "\u001b[2K   \u001b[90m━━━━━━━━━━━━━━━━━━━━━━━━━━━━━━━━━━━━━━━━\u001b[0m \u001b[32m6.9/6.9 MB\u001b[0m \u001b[31m43.8 MB/s\u001b[0m eta \u001b[36m0:00:00\u001b[0m00:01\u001b[0m00:01\u001b[0m\n",
      "\u001b[?25hDownloading backoff-2.2.1-py3-none-any.whl (15 kB)\n",
      "Downloading dataclasses_json-0.6.6-py3-none-any.whl (28 kB)\n",
      "Downloading emoji-2.12.1-py3-none-any.whl (431 kB)\n",
      "\u001b[2K   \u001b[90m━━━━━━━━━━━━━━━━━━━━━━━━━━━━━━━━━━━━━━━━\u001b[0m \u001b[32m431.4/431.4 kB\u001b[0m \u001b[31m44.1 MB/s\u001b[0m eta \u001b[36m0:00:00\u001b[0m\n",
      "\u001b[?25hDownloading filetype-1.2.0-py2.py3-none-any.whl (19 kB)\n",
      "Downloading lxml-5.2.2-cp310-cp310-manylinux_2_17_x86_64.manylinux2014_x86_64.whl (5.0 MB)\n",
      "\u001b[2K   \u001b[90m━━━━━━━━━━━━━━━━━━━━━━━━━━━━━━━━━━━━━━━━\u001b[0m \u001b[32m5.0/5.0 MB\u001b[0m \u001b[31m68.3 MB/s\u001b[0m eta \u001b[36m0:00:00\u001b[0m:00:01\u001b[0m00:01\u001b[0m\n",
      "\u001b[?25hDownloading python_iso639-2024.4.27-py3-none-any.whl (274 kB)\n",
      "\u001b[2K   \u001b[90m━━━━━━━━━━━━━━━━━━━━━━━━━━━━━━━━━━━━━━━━\u001b[0m \u001b[32m274.7/274.7 kB\u001b[0m \u001b[31m32.8 MB/s\u001b[0m eta \u001b[36m0:00:00\u001b[0m\n",
      "\u001b[?25hDownloading python_magic-0.4.27-py2.py3-none-any.whl (13 kB)\n",
      "Downloading rapidfuzz-3.9.1-cp310-cp310-manylinux_2_17_x86_64.manylinux2014_x86_64.whl (3.4 MB)\n",
      "\u001b[2K   \u001b[90m━━━━━━━━━━━━━━━━━━━━━━━━━━━━━━━━━━━━━━━━\u001b[0m \u001b[32m3.4/3.4 MB\u001b[0m \u001b[31m67.1 MB/s\u001b[0m eta \u001b[36m0:00:00\u001b[0m:00:01\u001b[0m\n",
      "\u001b[?25hDownloading unstructured_client-0.22.0-py3-none-any.whl (28 kB)\n",
      "Downloading deepdiff-7.0.1-py3-none-any.whl (80 kB)\n",
      "\u001b[2K   \u001b[90m━━━━━━━━━━━━━━━━━━━━━━━━━━━━━━━━━━━━━━━━\u001b[0m \u001b[32m80.8/80.8 kB\u001b[0m \u001b[31m6.4 MB/s\u001b[0m eta \u001b[36m0:00:00\u001b[0m\n",
      "\u001b[?25hUsing cached gitdb-4.0.11-py3-none-any.whl (62 kB)\n",
      "Downloading jsonpath_python-1.0.6-py3-none-any.whl (7.6 kB)\n",
      "Downloading marshmallow-3.21.2-py3-none-any.whl (49 kB)\n",
      "\u001b[2K   \u001b[90m━━━━━━━━━━━━━━━━━━━━━━━━━━━━━━━━━━━━━━━━\u001b[0m \u001b[32m49.3/49.3 kB\u001b[0m \u001b[31m6.1 MB/s\u001b[0m eta \u001b[36m0:00:00\u001b[0m\n",
      "\u001b[?25hDownloading pypdf-4.2.0-py3-none-any.whl (290 kB)\n",
      "\u001b[2K   \u001b[90m━━━━━━━━━━━━━━━━━━━━━━━━━━━━━━━━━━━━━━━━\u001b[0m \u001b[32m290.4/290.4 kB\u001b[0m \u001b[31m34.1 MB/s\u001b[0m eta \u001b[36m0:00:00\u001b[0m\n",
      "\u001b[?25hDownloading typing_inspect-0.9.0-py3-none-any.whl (8.8 kB)\n",
      "Downloading ordered_set-4.1.0-py3-none-any.whl (7.6 kB)\n",
      "Using cached smmap-5.0.1-py3-none-any.whl (24 kB)\n",
      "Building wheels for collected packages: pdfminer, langdetect\n",
      "  Building wheel for pdfminer (setup.py) ... \u001b[?25ldone\n",
      "\u001b[?25h  Created wheel for pdfminer: filename=pdfminer-20191125-py3-none-any.whl size=6140079 sha256=db18b2f101a653bf784f18b06991e0bd651d9ca462a00d823a125c18b618253d\n",
      "  Stored in directory: /home/ec2-user/.cache/pip/wheels/4e/c1/68/f7bd0a8f514661f76b5cbe3b5f76e0033d79f1296012cbbf72\n",
      "  Building wheel for langdetect (setup.py) ... \u001b[?25ldone\n",
      "\u001b[?25h  Created wheel for langdetect: filename=langdetect-1.0.9-py3-none-any.whl size=993227 sha256=b20e3d32f035c71993bb327dd941bd72d0785c97a864a7c1a107c2bc96eb1944\n",
      "  Stored in directory: /home/ec2-user/.cache/pip/wheels/95/03/7d/59ea870c70ce4e5a370638b5462a7711ab78fba2f655d05106\n",
      "Successfully built pdfminer langdetect\n",
      "Installing collected packages: filetype, typing-inspect, smmap, rapidfuzz, python-magic, python-iso639, PyPDF2, pypdf, pdfminer, pdf2image, ordered-set, marshmallow, lxml, langdetect, jsonpath-python, emoji, distro, cachetools, backoff, tiktoken, pydeck, gitdb, deepdiff, dataclasses-json, unstructured-client, openai, gitpython, unstructured, altair, streamlit\n",
      "Successfully installed PyPDF2-3.0.1 altair-5.3.0 backoff-2.2.1 cachetools-5.3.3 dataclasses-json-0.6.6 deepdiff-7.0.1 distro-1.9.0 emoji-2.12.1 filetype-1.2.0 gitdb-4.0.11 gitpython-3.1.43 jsonpath-python-1.0.6 langdetect-1.0.9 lxml-5.2.2 marshmallow-3.21.2 openai-1.30.4 ordered-set-4.1.0 pdf2image-1.17.0 pdfminer-20191125 pydeck-0.9.1 pypdf-4.2.0 python-iso639-2024.4.27 python-magic-0.4.27 rapidfuzz-3.9.1 smmap-5.0.1 streamlit-1.35.0 tiktoken-0.7.0 typing-inspect-0.9.0 unstructured-0.14.2 unstructured-client-0.22.0\n",
      "Note: you may need to restart the kernel to use updated packages.\n"
     ]
    }
   ],
   "source": [
    "pip install langchain openai streamlit tiktoken unstructured pdf2image pdfminer PyPDF2"
   ]
  },
  {
   "cell_type": "code",
   "execution_count": 5,
   "metadata": {},
   "outputs": [
    {
     "name": "stdout",
     "output_type": "stream",
     "text": [
      "Collecting langchain_openai\n",
      "  Downloading langchain_openai-0.1.7-py3-none-any.whl.metadata (2.5 kB)\n",
      "Requirement already satisfied: langchain-core<0.3,>=0.1.46 in /home/ec2-user/anaconda3/envs/python3/lib/python3.10/site-packages (from langchain_openai) (0.2.1)\n",
      "Requirement already satisfied: openai<2.0.0,>=1.24.0 in /home/ec2-user/anaconda3/envs/python3/lib/python3.10/site-packages (from langchain_openai) (1.30.4)\n",
      "Requirement already satisfied: tiktoken<1,>=0.7 in /home/ec2-user/anaconda3/envs/python3/lib/python3.10/site-packages (from langchain_openai) (0.7.0)\n",
      "Requirement already satisfied: PyYAML>=5.3 in /home/ec2-user/anaconda3/envs/python3/lib/python3.10/site-packages (from langchain-core<0.3,>=0.1.46->langchain_openai) (6.0.1)\n",
      "Requirement already satisfied: jsonpatch<2.0,>=1.33 in /home/ec2-user/anaconda3/envs/python3/lib/python3.10/site-packages (from langchain-core<0.3,>=0.1.46->langchain_openai) (1.33)\n",
      "Requirement already satisfied: langsmith<0.2.0,>=0.1.0 in /home/ec2-user/anaconda3/envs/python3/lib/python3.10/site-packages (from langchain-core<0.3,>=0.1.46->langchain_openai) (0.1.63)\n",
      "Requirement already satisfied: packaging<24.0,>=23.2 in /home/ec2-user/anaconda3/envs/python3/lib/python3.10/site-packages (from langchain-core<0.3,>=0.1.46->langchain_openai) (23.2)\n",
      "Requirement already satisfied: pydantic<3,>=1 in /home/ec2-user/anaconda3/envs/python3/lib/python3.10/site-packages (from langchain-core<0.3,>=0.1.46->langchain_openai) (2.7.2)\n",
      "Requirement already satisfied: tenacity<9.0.0,>=8.1.0 in /home/ec2-user/anaconda3/envs/python3/lib/python3.10/site-packages (from langchain-core<0.3,>=0.1.46->langchain_openai) (8.2.3)\n",
      "Requirement already satisfied: anyio<5,>=3.5.0 in /home/ec2-user/anaconda3/envs/python3/lib/python3.10/site-packages (from openai<2.0.0,>=1.24.0->langchain_openai) (4.3.0)\n",
      "Requirement already satisfied: distro<2,>=1.7.0 in /home/ec2-user/anaconda3/envs/python3/lib/python3.10/site-packages (from openai<2.0.0,>=1.24.0->langchain_openai) (1.9.0)\n",
      "Requirement already satisfied: httpx<1,>=0.23.0 in /home/ec2-user/anaconda3/envs/python3/lib/python3.10/site-packages (from openai<2.0.0,>=1.24.0->langchain_openai) (0.27.0)\n",
      "Requirement already satisfied: sniffio in /home/ec2-user/anaconda3/envs/python3/lib/python3.10/site-packages (from openai<2.0.0,>=1.24.0->langchain_openai) (1.3.1)\n",
      "Requirement already satisfied: tqdm>4 in /home/ec2-user/anaconda3/envs/python3/lib/python3.10/site-packages (from openai<2.0.0,>=1.24.0->langchain_openai) (4.66.2)\n",
      "Requirement already satisfied: typing-extensions<5,>=4.7 in /home/ec2-user/anaconda3/envs/python3/lib/python3.10/site-packages (from openai<2.0.0,>=1.24.0->langchain_openai) (4.10.0)\n",
      "Requirement already satisfied: regex>=2022.1.18 in /home/ec2-user/anaconda3/envs/python3/lib/python3.10/site-packages (from tiktoken<1,>=0.7->langchain_openai) (2023.12.25)\n",
      "Requirement already satisfied: requests>=2.26.0 in /home/ec2-user/anaconda3/envs/python3/lib/python3.10/site-packages (from tiktoken<1,>=0.7->langchain_openai) (2.31.0)\n",
      "Requirement already satisfied: idna>=2.8 in /home/ec2-user/anaconda3/envs/python3/lib/python3.10/site-packages (from anyio<5,>=3.5.0->openai<2.0.0,>=1.24.0->langchain_openai) (3.6)\n",
      "Requirement already satisfied: exceptiongroup>=1.0.2 in /home/ec2-user/anaconda3/envs/python3/lib/python3.10/site-packages (from anyio<5,>=3.5.0->openai<2.0.0,>=1.24.0->langchain_openai) (1.2.0)\n",
      "Requirement already satisfied: certifi in /home/ec2-user/anaconda3/envs/python3/lib/python3.10/site-packages (from httpx<1,>=0.23.0->openai<2.0.0,>=1.24.0->langchain_openai) (2024.2.2)\n",
      "Requirement already satisfied: httpcore==1.* in /home/ec2-user/anaconda3/envs/python3/lib/python3.10/site-packages (from httpx<1,>=0.23.0->openai<2.0.0,>=1.24.0->langchain_openai) (1.0.4)\n",
      "Requirement already satisfied: h11<0.15,>=0.13 in /home/ec2-user/anaconda3/envs/python3/lib/python3.10/site-packages (from httpcore==1.*->httpx<1,>=0.23.0->openai<2.0.0,>=1.24.0->langchain_openai) (0.14.0)\n",
      "Requirement already satisfied: jsonpointer>=1.9 in /home/ec2-user/anaconda3/envs/python3/lib/python3.10/site-packages (from jsonpatch<2.0,>=1.33->langchain-core<0.3,>=0.1.46->langchain_openai) (2.4)\n",
      "Requirement already satisfied: orjson<4.0.0,>=3.9.14 in /home/ec2-user/anaconda3/envs/python3/lib/python3.10/site-packages (from langsmith<0.2.0,>=0.1.0->langchain-core<0.3,>=0.1.46->langchain_openai) (3.10.3)\n",
      "Requirement already satisfied: annotated-types>=0.4.0 in /home/ec2-user/anaconda3/envs/python3/lib/python3.10/site-packages (from pydantic<3,>=1->langchain-core<0.3,>=0.1.46->langchain_openai) (0.7.0)\n",
      "Requirement already satisfied: pydantic-core==2.18.3 in /home/ec2-user/anaconda3/envs/python3/lib/python3.10/site-packages (from pydantic<3,>=1->langchain-core<0.3,>=0.1.46->langchain_openai) (2.18.3)\n",
      "Requirement already satisfied: charset-normalizer<4,>=2 in /home/ec2-user/anaconda3/envs/python3/lib/python3.10/site-packages (from requests>=2.26.0->tiktoken<1,>=0.7->langchain_openai) (3.3.2)\n",
      "Requirement already satisfied: urllib3<3,>=1.21.1 in /home/ec2-user/anaconda3/envs/python3/lib/python3.10/site-packages (from requests>=2.26.0->tiktoken<1,>=0.7->langchain_openai) (2.2.1)\n",
      "Downloading langchain_openai-0.1.7-py3-none-any.whl (34 kB)\n",
      "Installing collected packages: langchain_openai\n",
      "Successfully installed langchain_openai-0.1.7\n",
      "Note: you may need to restart the kernel to use updated packages.\n"
     ]
    }
   ],
   "source": [
    "pip install langchain_openai"
   ]
  },
  {
   "cell_type": "code",
   "execution_count": 16,
   "metadata": {},
   "outputs": [],
   "source": [
    "import os \n",
    "open_api_key=\"sk-proj-RXBDMRQTjC1NaGVP0QWyT3BlbkFJH6l48DJE35b4ko6wgQrm\" ##changed\n",
    "os.environ[\"OPENAI_API_KEY\"]=open_api_key"
   ]
  },
  {
   "cell_type": "code",
   "execution_count": 17,
   "metadata": {},
   "outputs": [],
   "source": [
    "## Basic Prompt Summarization\n",
    "from langchain_openai import ChatOpenAI\n",
    "from langchain.schema import(AIMessage, HumanMessage, SystemMessage)"
   ]
  },
  {
   "cell_type": "code",
   "execution_count": 18,
   "metadata": {},
   "outputs": [],
   "source": [
    "speech=\"\"\"We can help you try to get your money back when it’s been sent to the wrong place.\n",
    "\n",
    "Follow these steps to get the ball rolling for Faster Payments or BACS payments. For CHAPS or international payments, you’ll need to give your customer service team a call.\n",
    "Sometimes it can be quicker to contact the party you’ve paid by mistake, and ask them to pay you back, although, if this is not possible, contact us.  \n",
    "\n",
    "If you can’t contact them, that’s when we can get involved. We’ll ask the other bank for it back, as long as it’s a genuine mistake and over £25.\n",
    "There are a few reasons why it might bounce back to your account automatically. If the name doesn’t match the payment info or if the account is closed for example. We need to leave enough time for that to happen first.\n",
    "For Faster Payments, that can take one working day and for BACS payments it needs four working days. Once that time has passed just fill in the form below and we’ll do the rest.\n",
    "We can't guarantee that we'll be able to recover your funds, but we'll start working on it right away and get back in touch within 20 working days.\"\"\""
   ]
  },
  {
   "cell_type": "code",
   "execution_count": 22,
   "metadata": {},
   "outputs": [],
   "source": [
    "chat_messages=[\n",
    "    SystemMessage(content='You are an expert assistant with expertize in summarizing speeches'),\n",
    "    HumanMessage(content=f'Please provide a short and concise summary of the following speech:\\n TEXT: {speech}')\n",
    "]\n",
    "\n",
    "llm=ChatOpenAI(model_name='gpt-3.5-turbo')\n"
   ]
  },
  {
   "cell_type": "code",
   "execution_count": 20,
   "metadata": {},
   "outputs": [
    {
     "data": {
      "text/plain": [
       "246"
      ]
     },
     "execution_count": 20,
     "metadata": {},
     "output_type": "execute_result"
    }
   ],
   "source": [
    "##total tokens\n",
    "llm.get_num_tokens(speech)"
   ]
  },
  {
   "cell_type": "code",
   "execution_count": 23,
   "metadata": {},
   "outputs": [
    {
     "data": {
      "text/plain": [
       "'Summary:\\nThe speech provides guidance on how to retrieve money sent to the wrong recipient. It advises steps to initiate the process for different types of payments, suggests contacting the recipient directly if possible, and outlines the timeline for automatic return of funds. It also mentions that if the recipient cannot be reached, the bank can intervene for amounts over £25. While recovery is not guaranteed, the bank will start the process immediately and provide an update within 20 working days.'"
      ]
     },
     "execution_count": 23,
     "metadata": {},
     "output_type": "execute_result"
    }
   ],
   "source": [
    "llm(chat_messages).content"
   ]
  },
  {
   "cell_type": "code",
   "execution_count": 24,
   "metadata": {},
   "outputs": [
    {
     "name": "stdout",
     "output_type": "stream",
     "text": [
      "Summary:\n",
      "If you have sent money to the wrong place, you can try to get it back by following specific steps for different types of payments. It is recommended to first contact the recipient to request a refund. If that is not possible, you can reach out to the customer service team for assistance. If the mistaken payment is over £25, the bank can intervene to retrieve the funds, provided it meets certain criteria. The process may involve waiting for the payment to bounce back automatically if there are discrepancies in the payment information. While there is no guarantee of success, the bank will initiate the recovery process promptly and aim to provide an update within 20 working days.\n"
     ]
    }
   ],
   "source": [
    "##get_summary\n",
    "print(llm(chat_messages).content)"
   ]
  },
  {
   "cell_type": "code",
   "execution_count": null,
   "metadata": {},
   "outputs": [],
   "source": [
    "## 2.Prompt Templates Text Summarization"
   ]
  },
  {
   "cell_type": "code",
   "execution_count": 25,
   "metadata": {},
   "outputs": [],
   "source": [
    "\n",
    "from langchain.chains import LLMChain\n",
    "from langchain import PromptTemplate"
   ]
  },
  {
   "cell_type": "code",
   "execution_count": 26,
   "metadata": {},
   "outputs": [],
   "source": [
    "generic_template='''\n",
    "Write a summary of the following speech:\n",
    "Speech : `{speech}`\n",
    "Translate the precise summary to {language}.\n",
    "\n",
    "'''\n",
    "prompt=PromptTemplate(input_variables=['speech','language'], template=generic_template)"
   ]
  },
  {
   "cell_type": "code",
   "execution_count": 35,
   "metadata": {},
   "outputs": [
    {
     "data": {
      "text/plain": [
       "\"\\nWrite a summary of the following speech:\\nSpeech : `We can help you try to get your money back when it’s been sent to the wrong place.\\n\\nFollow these steps to get the ball rolling for Faster Payments or BACS payments. For CHAPS or international payments, you’ll need to give your customer service team a call.\\nSometimes it can be quicker to contact the party you’ve paid by mistake, and ask them to pay you back, although, if this is not possible, contact us.  \\n\\nIf you can’t contact them, that’s when we can get involved. We’ll ask the other bank for it back, as long as it’s a genuine mistake and over £25.\\nThere are a few reasons why it might bounce back to your account automatically. If the name doesn’t match the payment info or if the account is closed for example. We need to leave enough time for that to happen first.\\nFor Faster Payments, that can take one working day and for BACS payments it needs four working days. Once that time has passed just fill in the form below and we’ll do the rest.\\nWe can't guarantee that we'll be able to recover your funds, but we'll start working on it right away and get back in touch within 20 working days.`\\nTranslate the precise summary to hindi.\\n\\n\""
      ]
     },
     "execution_count": 35,
     "metadata": {},
     "output_type": "execute_result"
    }
   ],
   "source": [
    "prompt.format(speech=speech,language='hindi')"
   ]
  },
  {
   "cell_type": "code",
   "execution_count": 28,
   "metadata": {},
   "outputs": [],
   "source": [
    "complete_prompt=prompt.format(speech=speech,language='Irish')"
   ]
  },
  {
   "cell_type": "code",
   "execution_count": 29,
   "metadata": {},
   "outputs": [
    {
     "data": {
      "text/plain": [
       "266"
      ]
     },
     "execution_count": 29,
     "metadata": {},
     "output_type": "execute_result"
    }
   ],
   "source": [
    "llm.get_num_tokens(complete_prompt)"
   ]
  },
  {
   "cell_type": "code",
   "execution_count": 36,
   "metadata": {},
   "outputs": [],
   "source": [
    "llm_chain=LLMChain(llm=llm,prompt=prompt)\n",
    "summary=llm_chain.invoke({'speech':speech,'language':'hindi'})"
   ]
  },
  {
   "cell_type": "code",
   "execution_count": 37,
   "metadata": {},
   "outputs": [
    {
     "data": {
      "text/plain": [
       "{'speech': \"We can help you try to get your money back when it’s been sent to the wrong place.\\n\\nFollow these steps to get the ball rolling for Faster Payments or BACS payments. For CHAPS or international payments, you’ll need to give your customer service team a call.\\nSometimes it can be quicker to contact the party you’ve paid by mistake, and ask them to pay you back, although, if this is not possible, contact us.  \\n\\nIf you can’t contact them, that’s when we can get involved. We’ll ask the other bank for it back, as long as it’s a genuine mistake and over £25.\\nThere are a few reasons why it might bounce back to your account automatically. If the name doesn’t match the payment info or if the account is closed for example. We need to leave enough time for that to happen first.\\nFor Faster Payments, that can take one working day and for BACS payments it needs four working days. Once that time has passed just fill in the form below and we’ll do the rest.\\nWe can't guarantee that we'll be able to recover your funds, but we'll start working on it right away and get back in touch within 20 working days.\",\n",
       " 'language': 'hindi',\n",
       " 'text': 'यह भाषण बताता है कि अगर आपके धन को गलत जगह भेज दिया गया है तो हम आपकी मदद कर सकते हैं। फास्टर पेमेंट्स या बैक्स पेमेंट्स के लिए कुछ कदम उठाएं ताकि प्रक्रिया जल्दी शुरू हो सके। चैप्स या अंतरराष्ट्रीय पेमेंट्स के लिए, आपको कस्टमर सर्विस टीम से संपर्क करना होगा। एगर गलती से भुगतान किए हुए पक्ष से संपर्क स्थापित किया जा सकता है तो यह खाता है कि अगर ऐसा संभव नहीं है तो हमसे संपर्क करें। हम दूसरे बैंक से संपर्क करेंगे ताकि उन्हें वापस मिल सके, यदि यह एक वास्तविक गलती है और 25 पाउंड से अधिक है। हमें पहले सीखना चाहिए कि ऐसा होने में कितना समय लगेगा। फास्टर पेमेंट्स के लिए यह एक काम का दिन ले सकता है और बैक्स पेमेंट्स के लिए चार कार्य के दिन चाहिए। एक बार जब यह समय बीत जाए, तो नीचे दिए गए फॉर्म को भरें और हम बाकी का काम करेंगे। हम यह नहीं गारंटी कर सकते कि हम आपके धन को वापस पाने में सफल होंगे, लेकिन हम तुरंत काम पर लगेंगे और 20 कार्य के दिनों के भीतर आपसे संपर्क करेंगे।'}"
      ]
     },
     "execution_count": 37,
     "metadata": {},
     "output_type": "execute_result"
    }
   ],
   "source": [
    "summary"
   ]
  },
  {
   "cell_type": "code",
   "execution_count": 38,
   "metadata": {},
   "outputs": [],
   "source": [
    "## 3.StuffDocumentChain "
   ]
  },
  {
   "cell_type": "code",
   "execution_count": 48,
   "metadata": {},
   "outputs": [],
   "source": [
    "import PyPDF2"
   ]
  },
  {
   "cell_type": "code",
   "execution_count": 49,
   "metadata": {},
   "outputs": [],
   "source": [
    "from PyPDF2 import PdfReader"
   ]
  },
  {
   "cell_type": "code",
   "execution_count": 50,
   "metadata": {},
   "outputs": [],
   "source": [
    "# provide the path of  pdf file/files.\n",
    "pdfile = open('RBIbonds.pdf', 'rb') #'C:\\Users\\chauscr\\Downloads\\RBIbonds.pdf'\n",
    "pdf_read = PyPDF2.PdfReader(pdfile)"
   ]
  },
  {
   "cell_type": "code",
   "execution_count": 51,
   "metadata": {},
   "outputs": [],
   "source": [
    "from typing_extensions import Concatenate\n",
    "# read text from pdf\n",
    "text = ''\n",
    "for i, page in enumerate(pdf_read.pages):\n",
    "    content = page.extract_text()\n",
    "    if content:\n",
    "        text += content"
   ]
  },
  {
   "cell_type": "code",
   "execution_count": 52,
   "metadata": {},
   "outputs": [
    {
     "data": {
      "text/plain": [
       "'INFORMATION FOR INVESTORS IN Floating Rate Savings Bonds, 2020 (Taxable)  \\n \\nGovernment of India had introduced Floating Rate Savings Bonds, 2020 (Taxable) vide their notification \\nNo. F.No.4(10) -B(W& M)/2020 dated June 26, 2020 .  The main features of the Scheme are as under:  \\n \\nItem Floating Rate Savings Bonds, 2020 \\n(Taxable)              Remarks  \\n1) Category of     \\n    Investor  Resident Individual , HUF . \\n Non-Resident  Indians (NRI )s are not \\neligible to invest in these bonds . \\n2) Limit of investment  Minimum `1000/ - and in multiples of ` 1000/ -. No maximum limit . \\n3)  Date of Issue of  \\n     bonds  Date of receipt of subscription in cash (up  to  \\n` 20,000/ - only), or date of realization of \\ncheque /draft/ funds . ----- \\n 4)  Forms of Bonds  Electronic  form held in the Bond Ledger \\nAccount . Bond Ledger Account will be opened \\nby the Receiving Office in the name \\nof investor/s.  \\n5)  Interest  (i) Interest is payable semi -annually from the \\ndate of issue of bonds, up to 30th June / 31st \\nDecember as the case may be, and thereafter half-\\nyearly for period ending 30th June and \\n31st December on 1st July and 1st January \\nrespectively.    \\n(ii) The coupon rate payable for next half -year \\nwould be reset on 1st January 2021 and \\nthereafter, every 1st July and 1st January.  Half-yearly interest is payable on 1st \\nJanuary / 1st July. The coupon on 1st \\nJanuary 2021 shall be paid at 7.15 %. \\n6) Post Maturity    \\n    Interest  Post Maturity Interest is not payable . ----- \\n7)  Bank account  It is mandatory for the investor/s to provide \\nbank account details to facilitate payment of \\ninterest /maturity value directly to his/her/their \\nbank account.  ----- \\n8)  Tax benefits  Income from the  bonds is taxable.   Tax will be deducted at source while \\ninterest is paid.  \\nIf an exemption under the relevant \\nprovisions of the Income Tax Act, \\n1961 is obtained, it may be declared \\nin the Application Form .  \\n9)  Nomination   \\n      Facility  The sole Holder or all the joint holders may \\nnominate one or more persons as nominee in \\naccordance with the provisions of the \\nGovernment Securities Act, 2006 (38 of 2006) \\nand the Government Securities Regulation, \\n2007, published in Part III, Section 4 of the \\nGazett e of India dated December 1, 2007.  ----- \\n10)  Maturity period  7 years from the date of issuance.   \\n11)  Premature  \\n      redemption  Facility is available to the eligible investors \\nafter Lock in period of 4, 5, and 6 years in the age bracket of 80 years and  above, between \\n70 to 80 years and 60 to 70 years \\nrespectively.  Penalty charges @ 50% of last \\ncoupon payment.  \\n12)  Transferability   The bonds are not transferable . Transferability is limited to \\nnominee(s) /legal heir in case of  death \\nof holder . \\n13) Tradability  / \\nAdvances  The bonds are not t radable in the secondary \\nmarket and also not eligible as collateral for \\navailing loans.  ----- \\n14)  Application forms   Available at designated branches of SBI , \\n11 Nationalised Banks  and 4 Private Sector \\nBanks .  \\n ----- DUTIES OF INVESTOR/ APPLICANTS  \\nA) Please complete the application in all respects . \\nB) Incomplete applications are liable to result in delay of issue of the bonds (at the cost of the applicant) . \\nC) In case the application is submitted by a Power of Attorney (POA) holder, please submit original POA for \\nverification, along with an attested copy for record.  \\nD) In case the application is on behalf of a minor, please submit the original birth certificate from the School or \\nMunicipal Authorities for verification, together with an attested copy for record.  \\nE) Please note that nomination facility is available to a Sole Holder or all the joint holders (investors) of the bonds . \\nF) In case nominee is a minor, please indicate the date of birth of the minor and a guardian can be appointed . \\nG) Nomination facility is not available in case the investment is in the name of a minor .  \\nH) Please notify the change of address to R eceiving Office immediately . \\nI) POST MATURITY INTEREST IS NOT PAYABLE ON THESE BONDS. The interest and redemption proce eds \\nwill be credited on the due date as per bank details registered with us.  \\nJ) Indicate your date of birth / age.  \\nK) Provide your correct bank account details for receiving payment through electronic mode. In case of closure/transfer of the bank account, the fr esh details may be immediately intimated to the Receiving Office to \\navoid any inconvenience.  \\nL) Any information regarding tax applicability may be provided to the bank/branch.  \\n \\nRIGHTS OF THE INVESTOR  \\n \\na) The Certificate of Holding will be issued in electronic form within 7 working days from the date of tender of \\napplication . \\nb) The interest on the bond accrues from the date of receipt of funds/realization of cheque/draft and  will be \\ncredited to the bank account of the holder directly , as per the details  provided by him/her in the application \\nform.  \\nc) The interest will be paid semi -annually and credited to the investors account every 01 January and 01 July with \\nlast installment  on date of redemption.  \\nd) Maturity intimation advice will be issued one month before the due date of the bond.  \\ne) Application forms for investments, redemption,  nomination  etc., in respect of Savings Bonds shall be available \\non the website s of Receiving Offices.  \\nf) A sole holder or all the joint holders may nominate one or more nominees to the rights of the bonds. Non-\\nresident Indians can also be nominated . \\ng) The investor(s) can make separate nomination for each investment held under the BLA.  \\nh) The nomination will be registered at the Office of Issue and a n acknowledgement of Registration will  be issued \\nto the holder.  \\ni) The nomination can be varied by registering a fresh nomination.  \\nj) The existing nomination can be cancelled by a request to the Office of Issue.  \\nk) The redemption is due on expiry of seven years from the date of investment , unless applied for premature \\nredemption as applicable.  \\nl) Premature redemption facility is allowed with certain conditions.  \\nm) Investors are entitled for compensation for delayed payments at the applicable coupon rate.  \\n \\nIn case the issuing bank does not comply with the above, you may lodge a complaint in writing in the form provided at \\nthe counter of the bank and address the same to the nearest office of Reserve Bank of India, as under:  \\n \\nTHE REGIONAL DIRECTOR,  \\nRESERVE BANK OF INDIA,   \\nCONSUMER EDUCATION AND PROTECTION DEPARTMENT/ BANKING  OMBUDSMAN  \\n(LOCATION)   \\n-------------------------------------- \\nYou may also address your complaint to:  \\n \\nTHE CHIEF GENERAL MANAGER  \\nINTERNAL DEBT MANAGEMENT DEPARTMENT  \\nRESERVE BANK OF INDIA,  23rd Floor  \\nCENTRAL OFFICE , Shahid Bhagat Singh Marg,   \\nMUMBAI -400 001 \\nMAHARASHTRA \\nE- mail ID –  cgmidmd@rbi.org.in  \\n \\n Disclaimer:  I have read and understood the details of information for the investors as well as rights and duties of \\ninvestors. The agent/bank has explained the features of the scheme to me.  \\n \\n \\n \\n \\nSignature/s  of the applicant/s  \\n \\n \\n '"
      ]
     },
     "execution_count": 52,
     "metadata": {},
     "output_type": "execute_result"
    }
   ],
   "source": [
    "text"
   ]
  },
  {
   "cell_type": "code",
   "execution_count": 53,
   "metadata": {},
   "outputs": [],
   "source": [
    "from langchain.docstore.document import Document"
   ]
  },
  {
   "cell_type": "code",
   "execution_count": 54,
   "metadata": {},
   "outputs": [
    {
     "data": {
      "text/plain": [
       "[Document(page_content='INFORMATION FOR INVESTORS IN Floating Rate Savings Bonds, 2020 (Taxable)  \\n \\nGovernment of India had introduced Floating Rate Savings Bonds, 2020 (Taxable) vide their notification \\nNo. F.No.4(10) -B(W& M)/2020 dated June 26, 2020 .  The main features of the Scheme are as under:  \\n \\nItem Floating Rate Savings Bonds, 2020 \\n(Taxable)              Remarks  \\n1) Category of     \\n    Investor  Resident Individual , HUF . \\n Non-Resident  Indians (NRI )s are not \\neligible to invest in these bonds . \\n2) Limit of investment  Minimum `1000/ - and in multiples of ` 1000/ -. No maximum limit . \\n3)  Date of Issue of  \\n     bonds  Date of receipt of subscription in cash (up  to  \\n` 20,000/ - only), or date of realization of \\ncheque /draft/ funds . ----- \\n 4)  Forms of Bonds  Electronic  form held in the Bond Ledger \\nAccount . Bond Ledger Account will be opened \\nby the Receiving Office in the name \\nof investor/s.  \\n5)  Interest  (i) Interest is payable semi -annually from the \\ndate of issue of bonds, up to 30th June / 31st \\nDecember as the case may be, and thereafter half-\\nyearly for period ending 30th June and \\n31st December on 1st July and 1st January \\nrespectively.    \\n(ii) The coupon rate payable for next half -year \\nwould be reset on 1st January 2021 and \\nthereafter, every 1st July and 1st January.  Half-yearly interest is payable on 1st \\nJanuary / 1st July. The coupon on 1st \\nJanuary 2021 shall be paid at 7.15 %. \\n6) Post Maturity    \\n    Interest  Post Maturity Interest is not payable . ----- \\n7)  Bank account  It is mandatory for the investor/s to provide \\nbank account details to facilitate payment of \\ninterest /maturity value directly to his/her/their \\nbank account.  ----- \\n8)  Tax benefits  Income from the  bonds is taxable.   Tax will be deducted at source while \\ninterest is paid.  \\nIf an exemption under the relevant \\nprovisions of the Income Tax Act, \\n1961 is obtained, it may be declared \\nin the Application Form .  \\n9)  Nomination   \\n      Facility  The sole Holder or all the joint holders may \\nnominate one or more persons as nominee in \\naccordance with the provisions of the \\nGovernment Securities Act, 2006 (38 of 2006) \\nand the Government Securities Regulation, \\n2007, published in Part III, Section 4 of the \\nGazett e of India dated December 1, 2007.  ----- \\n10)  Maturity period  7 years from the date of issuance.   \\n11)  Premature  \\n      redemption  Facility is available to the eligible investors \\nafter Lock in period of 4, 5, and 6 years in the age bracket of 80 years and  above, between \\n70 to 80 years and 60 to 70 years \\nrespectively.  Penalty charges @ 50% of last \\ncoupon payment.  \\n12)  Transferability   The bonds are not transferable . Transferability is limited to \\nnominee(s) /legal heir in case of  death \\nof holder . \\n13) Tradability  / \\nAdvances  The bonds are not t radable in the secondary \\nmarket and also not eligible as collateral for \\navailing loans.  ----- \\n14)  Application forms   Available at designated branches of SBI , \\n11 Nationalised Banks  and 4 Private Sector \\nBanks .  \\n ----- DUTIES OF INVESTOR/ APPLICANTS  \\nA) Please complete the application in all respects . \\nB) Incomplete applications are liable to result in delay of issue of the bonds (at the cost of the applicant) . \\nC) In case the application is submitted by a Power of Attorney (POA) holder, please submit original POA for \\nverification, along with an attested copy for record.  \\nD) In case the application is on behalf of a minor, please submit the original birth certificate from the School or \\nMunicipal Authorities for verification, together with an attested copy for record.  \\nE) Please note that nomination facility is available to a Sole Holder or all the joint holders (investors) of the bonds . \\nF) In case nominee is a minor, please indicate the date of birth of the minor and a guardian can be appointed . \\nG) Nomination facility is not available in case the investment is in the name of a minor .  \\nH) Please notify the change of address to R eceiving Office immediately . \\nI) POST MATURITY INTEREST IS NOT PAYABLE ON THESE BONDS. The interest and redemption proce eds \\nwill be credited on the due date as per bank details registered with us.  \\nJ) Indicate your date of birth / age.  \\nK) Provide your correct bank account details for receiving payment through electronic mode. In case of closure/transfer of the bank account, the fr esh details may be immediately intimated to the Receiving Office to \\navoid any inconvenience.  \\nL) Any information regarding tax applicability may be provided to the bank/branch.  \\n \\nRIGHTS OF THE INVESTOR  \\n \\na) The Certificate of Holding will be issued in electronic form within 7 working days from the date of tender of \\napplication . \\nb) The interest on the bond accrues from the date of receipt of funds/realization of cheque/draft and  will be \\ncredited to the bank account of the holder directly , as per the details  provided by him/her in the application \\nform.  \\nc) The interest will be paid semi -annually and credited to the investors account every 01 January and 01 July with \\nlast installment  on date of redemption.  \\nd) Maturity intimation advice will be issued one month before the due date of the bond.  \\ne) Application forms for investments, redemption,  nomination  etc., in respect of Savings Bonds shall be available \\non the website s of Receiving Offices.  \\nf) A sole holder or all the joint holders may nominate one or more nominees to the rights of the bonds. Non-\\nresident Indians can also be nominated . \\ng) The investor(s) can make separate nomination for each investment held under the BLA.  \\nh) The nomination will be registered at the Office of Issue and a n acknowledgement of Registration will  be issued \\nto the holder.  \\ni) The nomination can be varied by registering a fresh nomination.  \\nj) The existing nomination can be cancelled by a request to the Office of Issue.  \\nk) The redemption is due on expiry of seven years from the date of investment , unless applied for premature \\nredemption as applicable.  \\nl) Premature redemption facility is allowed with certain conditions.  \\nm) Investors are entitled for compensation for delayed payments at the applicable coupon rate.  \\n \\nIn case the issuing bank does not comply with the above, you may lodge a complaint in writing in the form provided at \\nthe counter of the bank and address the same to the nearest office of Reserve Bank of India, as under:  \\n \\nTHE REGIONAL DIRECTOR,  \\nRESERVE BANK OF INDIA,   \\nCONSUMER EDUCATION AND PROTECTION DEPARTMENT/ BANKING  OMBUDSMAN  \\n(LOCATION)   \\n-------------------------------------- \\nYou may also address your complaint to:  \\n \\nTHE CHIEF GENERAL MANAGER  \\nINTERNAL DEBT MANAGEMENT DEPARTMENT  \\nRESERVE BANK OF INDIA,  23rd Floor  \\nCENTRAL OFFICE , Shahid Bhagat Singh Marg,   \\nMUMBAI -400 001 \\nMAHARASHTRA \\nE- mail ID –  cgmidmd@rbi.org.in  \\n \\n Disclaimer:  I have read and understood the details of information for the investors as well as rights and duties of \\ninvestors. The agent/bank has explained the features of the scheme to me.  \\n \\n \\n \\n \\nSignature/s  of the applicant/s  \\n \\n \\n ')]"
      ]
     },
     "execution_count": 54,
     "metadata": {},
     "output_type": "execute_result"
    }
   ],
   "source": [
    "docs = [Document(page_content=text)]\n",
    "docs"
   ]
  },
  {
   "cell_type": "code",
   "execution_count": 55,
   "metadata": {},
   "outputs": [],
   "source": [
    "llm = ChatOpenAI(temperature=0, model_name='gpt-3.5-turbo')"
   ]
  },
  {
   "cell_type": "code",
   "execution_count": 57,
   "metadata": {},
   "outputs": [],
   "source": [
    "from langchain import PromptTemplate\n",
    "from langchain_openai import ChatOpenAI\n",
    "from langchain.chains.summarize import load_summarize_chain\n",
    "from langchain.docstore.document import Document"
   ]
  },
  {
   "cell_type": "code",
   "execution_count": null,
   "metadata": {},
   "outputs": [],
   "source": []
  },
  {
   "cell_type": "code",
   "execution_count": 58,
   "metadata": {},
   "outputs": [],
   "source": [
    "template = '''Write a concise and short summary of the following speech.\n",
    "Speech: `{text}`\n",
    "'''\n",
    "prompt = PromptTemplate(\n",
    "    input_variables=['text'],\n",
    "    template=template\n",
    ")"
   ]
  },
  {
   "cell_type": "code",
   "execution_count": 59,
   "metadata": {},
   "outputs": [],
   "source": [
    "chain = load_summarize_chain(\n",
    "    llm,\n",
    "    chain_type='stuff',\n",
    "    prompt=prompt,\n",
    "    verbose=False\n",
    ")\n",
    "output_summary = chain.run(docs)"
   ]
  },
  {
   "cell_type": "code",
   "execution_count": 60,
   "metadata": {},
   "outputs": [
    {
     "data": {
      "text/plain": [
       "'The speech provides information for investors interested in Floating Rate Savings Bonds, 2020 (Taxable) introduced by the Government of India. It outlines the features of the scheme, including eligibility, investment limits, interest rates, maturity period, and redemption options. It also highlights the duties and rights of investors, as well as the process for lodging complaints with the Reserve Bank of India if necessary.'"
      ]
     },
     "execution_count": 60,
     "metadata": {},
     "output_type": "execute_result"
    }
   ],
   "source": [
    "output_summary"
   ]
  },
  {
   "cell_type": "code",
   "execution_count": null,
   "metadata": {},
   "outputs": [],
   "source": [
    "## 4.Summarizing Large Documents with Map Reduce"
   ]
  },
  {
   "cell_type": "code",
   "execution_count": 62,
   "metadata": {},
   "outputs": [],
   "source": [
    "from langchain import PromptTemplate\n",
    "from langchain_openai import ChatOpenAI\n",
    "from langchain.chains.summarize import load_summarize_chain\n",
    "from langchain.text_splitter import RecursiveCharacterTextSplitter"
   ]
  },
  {
   "cell_type": "code",
   "execution_count": 64,
   "metadata": {},
   "outputs": [],
   "source": [
    "# provide the path of  pdf file/files.\n",
    "pdfread = PdfReader('RBIbonds.pdf')\n",
    "from typing_extensions import Concatenate\n",
    "# read text from pdf\n",
    "text = ''\n",
    "for i, page in enumerate(pdfread.pages):\n",
    "    content = page.extract_text()\n",
    "    if content:\n",
    "        text += content"
   ]
  },
  {
   "cell_type": "code",
   "execution_count": 66,
   "metadata": {},
   "outputs": [],
   "source": [
    "llm = ChatOpenAI(temperature=0, model_name='gpt-3.5-turbo')"
   ]
  },
  {
   "cell_type": "code",
   "execution_count": 67,
   "metadata": {},
   "outputs": [
    {
     "data": {
      "text/plain": [
       "1729"
      ]
     },
     "execution_count": 67,
     "metadata": {},
     "output_type": "execute_result"
    }
   ],
   "source": [
    "llm.get_num_tokens(text)"
   ]
  },
  {
   "cell_type": "code",
   "execution_count": 77,
   "metadata": {},
   "outputs": [],
   "source": [
    "## Splittting the text\n",
    "text_splitter = RecursiveCharacterTextSplitter(chunk_size=1000, chunk_overlap=20)\n",
    "chunks = text_splitter.create_documents([text])"
   ]
  },
  {
   "cell_type": "code",
   "execution_count": 78,
   "metadata": {},
   "outputs": [
    {
     "data": {
      "text/plain": [
       "8"
      ]
     },
     "execution_count": 78,
     "metadata": {},
     "output_type": "execute_result"
    }
   ],
   "source": [
    "len(chunks)"
   ]
  },
  {
   "cell_type": "code",
   "execution_count": 79,
   "metadata": {},
   "outputs": [],
   "source": [
    "chain = load_summarize_chain(llm, chain_type='map_reduce', verbose=False)\n",
    "summary = chain.run(chunks)"
   ]
  },
  {
   "cell_type": "code",
   "execution_count": 80,
   "metadata": {},
   "outputs": [
    {
     "data": {
      "text/plain": [
       "'The Government of India introduced Floating Rate Savings Bonds, 2020 for Resident Individuals and HUFs with a minimum investment of Rs. 1000 and no maximum limit. NRIs are not eligible to invest. Bonds are issued in electronic form with interest payable semi-annually. Nomination is allowed, premature redemption is available after a lock-in period, and bonds are not tradable in the secondary market. Application forms are available at designated banks, and investors must provide correct bank account details for payment. Income from bonds is taxable, and tax will be deducted at source. Post maturity interest is not payable, and changes to bank account details should be immediately communicated to the Receiving Office. Nomination can be changed, and complaints can be lodged with the Reserve Bank of India if the issuing bank does not comply with the terms.'"
      ]
     },
     "execution_count": 80,
     "metadata": {},
     "output_type": "execute_result"
    }
   ],
   "source": [
    "summary"
   ]
  },
  {
   "cell_type": "markdown",
   "metadata": {},
   "source": [
    "## Map Reduce With Custom Prompts"
   ]
  },
  {
   "cell_type": "code",
   "execution_count": 81,
   "metadata": {},
   "outputs": [],
   "source": [
    "chunks_prompt=\"\"\"\n",
    "Please summarize the below speech:\n",
    "Speech:`{text}'\n",
    "Summary:\n",
    "\"\"\"\n",
    "map_prompt_template=PromptTemplate(input_variables=['text'], template=chunks_prompt)"
   ]
  },
  {
   "cell_type": "code",
   "execution_count": 82,
   "metadata": {},
   "outputs": [],
   "source": [
    "final_combine_prompt='''\n",
    "Provide a final summary of the entire speech with these important points.\n",
    "Add a Generic Informational Title,\n",
    "Start the precise summary with an introduction and provide the\n",
    "summary in number points for the speech.\n",
    "Speech: `{text}`\n",
    "'''\n",
    "final_combine_prompt_template=PromptTemplate(input_variables=['text'], template=final_combine_prompt)"
   ]
  },
  {
   "cell_type": "code",
   "execution_count": 83,
   "metadata": {},
   "outputs": [],
   "source": [
    "summary_chain = load_summarize_chain(llm=llm, chain_type='map_reduce', map_prompt=map_prompt_template, combine_prompt=final_combine_prompt_template, verbose=False\n",
    ")\n",
    "output = summary_chain.run(chunks)"
   ]
  },
  {
   "cell_type": "code",
   "execution_count": 84,
   "metadata": {},
   "outputs": [
    {
     "data": {
      "text/plain": [
       "'Title: \"Empowering Investors: A Guide to Floating Rate Savings Bonds, 2020\"\\n\\n1. The Government of India introduced Floating Rate Savings Bonds, 2020 for Resident Individuals and HUFs, with NRIs not eligible to invest.\\n2. The minimum investment is Rs. 1000 with no maximum limit, and interest is payable semi-annually.\\n3. Bonds are issued in electronic form and held in a Bond Ledger Account opened by the Receiving Office.\\n4. Terms and conditions include frequency of interest payments, reset of coupon rates, tax implications, and nomination options.\\n5. Nomination process allows for one or more nominees, with a maturity period of 7 years.\\n6. Duties of investors include completing application forms accurately and utilizing the nomination facility if applicable.\\n7. Important instructions include notifying address changes, providing accurate bank account details, and informing the Receiving Office of any changes.\\n8. Process for crediting interest to bank accounts, maturity intimation advice, and application forms for investments, redemptions, and nominations.\\n9. Information on cancelling nominations, redemption periods, premature redemption, and lodging complaints with the Reserve Bank of India.\\n10. Contact information for the Reserve Bank of India in Mumbai, Maharashtra, and a disclaimer regarding understanding of investor rights and duties.'"
      ]
     },
     "execution_count": 84,
     "metadata": {},
     "output_type": "execute_result"
    }
   ],
   "source": [
    "output"
   ]
  }
 ],
 "metadata": {
  "kernelspec": {
   "display_name": "conda_python3",
   "language": "python",
   "name": "conda_python3"
  },
  "language_info": {
   "codemirror_mode": {
    "name": "ipython",
    "version": 3
   },
   "file_extension": ".py",
   "mimetype": "text/x-python",
   "name": "python",
   "nbconvert_exporter": "python",
   "pygments_lexer": "ipython3",
   "version": "3.10.14"
  }
 },
 "nbformat": 4,
 "nbformat_minor": 2
}
